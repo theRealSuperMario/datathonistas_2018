{
 "cells": [
  {
   "cell_type": "markdown",
   "metadata": {},
   "source": [
    "Trains a Neural Network using the Data-Generator."
   ]
  },
  {
   "cell_type": "code",
   "execution_count": 1,
   "metadata": {},
   "outputs": [
    {
     "name": "stderr",
     "output_type": "stream",
     "text": [
      "/Users/tristanbehrens/Development/python-venvs/venv-3.6/lib/python3.6/site-packages/h5py/__init__.py:36: FutureWarning: Conversion of the second argument of issubdtype from `float` to `np.floating` is deprecated. In future, it will be treated as `np.float64 == np.dtype(float).type`.\n",
      "  from ._conv import register_converters as _register_converters\n",
      "Using TensorFlow backend.\n"
     ]
    }
   ],
   "source": [
    "from keras import models, layers\n",
    "import numpy as np\n",
    "import matplotlib.pyplot as plt\n",
    "import os\n",
    "import random\n",
    "from datagenerator import DataGenerator\n",
    "import datetime\n",
    "import pickle\n",
    "from pyntcloud import PyntCloud\n",
    "from mpl_toolkits.mplot3d import Axes3D"
   ]
  },
  {
   "cell_type": "markdown",
   "metadata": {},
   "source": [
    "# Datasetpath."
   ]
  },
  {
   "cell_type": "code",
   "execution_count": 2,
   "metadata": {},
   "outputs": [],
   "source": [
    "if os.path.exists(\"datasetpath.txt\"):\n",
    "    dataset_path = open(\"datasetpath.txt\", \"r\").read().replace(\"\\n\", \"\")\n",
    "else:\n",
    "    dataset_path = \"../data\""
   ]
  },
  {
   "cell_type": "markdown",
   "metadata": {},
   "source": [
    "# Instantiate the data-generator."
   ]
  },
  {
   "cell_type": "code",
   "execution_count": 3,
   "metadata": {},
   "outputs": [
    {
     "name": "stdout",
     "output_type": "stream",
     "text": [
      "jpg_paths 4511\n",
      "pcd_paths 1360\n",
      "json_paths_personal 40\n",
      "json_paths_measures 74\n",
      "QR-Codes:\n",
      "SAM-02-003-01\n",
      "SAM-GOV-001\n",
      "SAM-GOV-002\n",
      "SAM-GOV-003\n",
      "SAM-GOV-004\n",
      "SAM-GOV-005\n",
      "SAM-GOV-008\n",
      "SAM-GOV-011\n",
      "SAM-GOV-012\n",
      "SAM-GOV-013\n",
      "SAM-GOV-014\n",
      "SAM-GOV-023\n",
      "SAM-GOV-025\n",
      "SAM-GOV-026\n",
      "SAM-GOV-033\n",
      "SAM-GOV-034\n",
      "SAM-GOV-035\n",
      "SAM-GOV-036\n",
      "SAM-GOV-037\n",
      "SAM-GOV-038\n",
      "SAM-GOV-041\n",
      "SAM-GOV-042\n",
      "SAM-GOV-043\n",
      "SAM-GOV-044\n",
      "SAM-GOV-099\n",
      "SAM-SNG-011\n",
      "SAM-SNG-012\n",
      "SAM-SNG-013\n",
      "SAM-SNG-014\n",
      "SAM-SNG-015\n",
      "SAM-SNG-016\n",
      "SAM-SNG-021\n",
      "SAM-SNG-036\n",
      "SAM-SNG-066\n",
      "SAM-SNG-067\n",
      "SAM-SNG-072\n",
      "SAM-SNG-091\n",
      "SAM-SNG-096\n",
      "Done.\n"
     ]
    }
   ],
   "source": [
    "data_generator = DataGenerator(dataset_path=dataset_path, input_type=\"empty\", output_targets=[\"height\", \"weight\"])\n",
    "\n",
    "print(\"jpg_paths\", len(data_generator.jpg_paths))\n",
    "print(\"pcd_paths\", len(data_generator.pcd_paths))\n",
    "print(\"json_paths_personal\", len(data_generator.json_paths_personal))\n",
    "print(\"json_paths_measures\", len(data_generator.json_paths_measures))\n",
    "print(\"QR-Codes:\\n\" + \"\\n\".join(data_generator.qrcodes))\n",
    "\n",
    "print(\"Done.\")"
   ]
  },
  {
   "cell_type": "markdown",
   "metadata": {},
   "source": [
    "#  Do the training-validation-split on QR-codes."
   ]
  },
  {
   "cell_type": "code",
   "execution_count": 7,
   "metadata": {},
   "outputs": [
    {
     "name": "stdout",
     "output_type": "stream",
     "text": [
      "QR-Codes train:\n",
      "SAM-GOV-023 SAM-GOV-041 SAM-GOV-033 SAM-GOV-037 SAM-GOV-012 SAM-GOV-099 SAM-GOV-001 SAM-GOV-035 SAM-GOV-002 SAM-GOV-038 SAM-GOV-008 SAM-GOV-025 SAM-GOV-034 SAM-GOV-036 SAM-GOV-004 SAM-GOV-014 SAM-GOV-043 SAM-GOV-011 SAM-GOV-042\n",
      "\n",
      "QR-Codes validate:\n",
      "SAM-GOV-013 SAM-GOV-026 SAM-GOV-003 SAM-GOV-044 SAM-GOV-005\n",
      "\n",
      "Done.\n"
     ]
    }
   ],
   "source": [
    "# Ensure that the split is always the same.\n",
    "random.seed(108)\n",
    "\n",
    "# Filter and shuffle the QR-Codes.\n",
    "qrcodes_shuffle = list(data_generator.qrcodes)\n",
    "qrcodes_shuffle = [qrcode for qrcode in qrcodes_shuffle if qrcode.startswith(\"SAM-GOV\")]\n",
    "random.shuffle(qrcodes_shuffle)\n",
    "\n",
    "# Do the split.\n",
    "split_index = int(0.8 * len(qrcodes_shuffle))\n",
    "qrcodes_train = qrcodes_shuffle[:split_index]\n",
    "qrcodes_validate = qrcodes_shuffle[split_index:]\n",
    "\n",
    "# Print statistics.\n",
    "print(\"QR-Codes train:\")\n",
    "print(\" \".join(qrcodes_train))\n",
    "print(\"\")\n",
    "print(\"QR-Codes validate:\")\n",
    "print(\" \".join(qrcodes_validate))\n",
    "print(\"\")\n",
    "print(\"Done.\")"
   ]
  },
  {
   "cell_type": "markdown",
   "metadata": {},
   "source": [
    "# Training.\n"
   ]
  },
  {
   "cell_type": "code",
   "execution_count": null,
   "metadata": {},
   "outputs": [],
   "source": [
    "def create_model(input_shape, output_size):\n",
    "    \n",
    "    model = models.Sequential()\n",
    "\n",
    "    model.add(layers.Flatten(input_shape=input_shape))\n",
    "    model.add(layers.Dense(128, activation=\"relu\"))\n",
    "    model.add(layers.Dense(64, activation=\"relu\"))\n",
    "    model.add(layers.Dense(output_size))\n",
    "    model.summary()\n",
    "\n",
    "    model.compile(\n",
    "        optimizer=\"rmsprop\",\n",
    "        loss=\"mse\",\n",
    "        metrics=[\"mae\"]\n",
    "    )\n",
    "    \n",
    "    return model\n",
    "\n",
    "# Parameters.\n",
    "input_types = [\"image\", \"pointcloud\", \"voxelgrid\"]\n",
    "input_types = [\"pointcloud\", \"voxelgrid\"]\n",
    "batch_size = 32\n",
    "step_per_epoch = 32\n",
    "epochs = 100\n",
    "validation_steps = 8\n",
    "\n",
    "# Train the nets.\n",
    "results = {}\n",
    "for input_type in input_types:\n",
    "    print(\"Training for:\", input_type)\n",
    "    data_generator.input_type = input_type\n",
    "    \n",
    "    model = create_model(data_generator.get_input_shape(), data_generator.get_output_size())\n",
    "\n",
    "    history = model.fit_generator(\n",
    "        data_generator.generate(size=batch_size, qrcodes_to_use=qrcodes_train),\n",
    "        steps_per_epoch=step_per_epoch,\n",
    "        epochs=epochs,\n",
    "        validation_data=data_generator.generate(size=batch_size, qrcodes_to_use=qrcodes_validate),\n",
    "        validation_steps=validation_steps)\n",
    "    \n",
    "    results[input_type] = (model, history.history)"
   ]
  },
  {
   "cell_type": "markdown",
   "metadata": {},
   "source": [
    "# Can restore everything."
   ]
  },
  {
   "cell_type": "code",
   "execution_count": 8,
   "metadata": {},
   "outputs": [
    {
     "name": "stdout",
     "output_type": "stream",
     "text": [
      "Loaded!\n"
     ]
    }
   ],
   "source": [
    "date_time_string_for_restore = None\n",
    "#date_time_string_for_restore = \"20180709-1445\"\n",
    "\n",
    "if date_time_string_for_restore == None:\n",
    "    print(\"Not restoring anything!\")\n",
    "\n",
    "else:\n",
    "    results = {}\n",
    "    input_types_for_restore = [\"image\", \"voxelgrid\", \"pointcloud\"]\n",
    "    for input_type in input_types_for_restore:\n",
    "        model = models.load_model(date_time_string_for_restore + \"-\" + input_type +\".h5\")\n",
    "        history = pickle.load(open(date_time_string_for_restore + \"-\" + input_type + \".p\", \"rb\"))\n",
    "        results[input_type] = (model, history)\n",
    "        \n",
    "    print(\"Loaded!\")"
   ]
  },
  {
   "cell_type": "markdown",
   "metadata": {},
   "source": [
    "# Saving models and histories."
   ]
  },
  {
   "cell_type": "code",
   "execution_count": null,
   "metadata": {},
   "outputs": [],
   "source": [
    "datetime_string = datetime.datetime.now().strftime(\"%Y%m%d-%H%M\")\n",
    "\n",
    "# Save the models and histories.    \n",
    "for input_type, (model, _) in results.items():\n",
    "    model_name = datetime_string + \"-\" + input_type\n",
    "    model_path = os.path.join(model_name)\n",
    "    model.save(model_path + \".h5\")\n",
    "    pickle.dump(history, open(model_path + \".p\", \"wb\"))\n",
    "    print(\"Model saved to:\", model_path)\n",
    "    \n",
    "print(\"All saved.\")"
   ]
  },
  {
   "cell_type": "markdown",
   "metadata": {},
   "source": [
    "# Rendering histories."
   ]
  },
  {
   "cell_type": "code",
   "execution_count": 10,
   "metadata": {},
   "outputs": [
    {
     "data": {
      "image/png": "[encoded data removed]",
      "text/plain": [
       "<matplotlib.figure.Figure at 0x14c8cb240>"
      ]
     },
     "metadata": {},
     "output_type": "display_data"
    },
    {
     "data": {
      "image/png": "[encoded data removed]",
      "text/plain": [
       "<matplotlib.figure.Figure at 0x14c9b16a0>"
      ]
     },
     "metadata": {},
     "output_type": "display_data"
    }
   ],
   "source": [
    "start_index = 10\n",
    "\n",
    "# Loss.\n",
    "for input_type, (_, history) in results.items():\n",
    "    plt.plot(history[\"loss\"][start_index:], label=\"loss\" + \" \" + input_type)\n",
    "    plt.plot(history[\"val_loss\"][start_index:], label=\"val_loss\" + \" \" + input_type)\n",
    "plt.legend()\n",
    "plt.show()\n",
    "plt.close()\n",
    "\n",
    "# Metric.\n",
    "for input_type, (_, history) in results.items():\n",
    "    plt.plot(history[\"mean_absolute_error\"][start_index:], label=\"loss\" + \" \" + input_type)\n",
    "    plt.plot(history[\"val_mean_absolute_error\"][start_index:], label=\"val_loss\" + \" \" + input_type)\n",
    "plt.legend()\n",
    "plt.show()\n",
    "plt.close()"
   ]
  },
  {
   "cell_type": "markdown",
   "metadata": {},
   "source": [
    "# Test the model."
   ]
  },
  {
   "cell_type": "code",
   "execution_count": null,
   "metadata": {},
   "outputs": [],
   "source": [
    "# Evaluate.\n",
    "for input_type, (model, _) in results.items():\n",
    "    \n",
    "    data_generator.input_type = input_type\n",
    "    x_input, y_output = next(data_generator.generate(size=100, qrcodes_to_use=qrcodes_validate))\n",
    "    loss, metric = model.evaluate(x_input, y_output, verbose=0)\n",
    "    print(\"Input type:\", input_type)\n",
    "    print(\"Loss:\", loss)\n",
    "    print(\"Metric:\", metric)\n",
    "    print(\"\")"
   ]
  }
 ],
 "metadata": {
  "kernelspec": {
   "display_name": "Python 3",
   "language": "python",
   "name": "python3"
  },
  "language_info": {
   "codemirror_mode": {
    "name": "ipython",
    "version": 3
   },
   "file_extension": ".py",
   "mimetype": "text/x-python",
   "name": "python",
   "nbconvert_exporter": "python",
   "pygments_lexer": "ipython3",
   "version": "3.6.4"
  }
 },
 "nbformat": 4,
 "nbformat_minor": 2
}
