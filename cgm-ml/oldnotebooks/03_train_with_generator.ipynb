{
 "cells": [
  {
   "cell_type": "markdown",
   "metadata": {},
   "source": [
    "Trains a Neural Network using the Data-Generator."
   ]
  },
  {
   "cell_type": "code",
   "execution_count": 1,
   "metadata": {},
   "outputs": [
    {
     "name": "stderr",
     "output_type": "stream",
     "text": [
      "/Users/tristanbehrens/Development/python-venvs/venv-3.6/lib/python3.6/site-packages/h5py/__init__.py:36: FutureWarning: Conversion of the second argument of issubdtype from `float` to `np.floating` is deprecated. In future, it will be treated as `np.float64 == np.dtype(float).type`.\n",
      "  from ._conv import register_converters as _register_converters\n",
      "Using TensorFlow backend.\n"
     ]
    }
   ],
   "source": [
    "from keras import models, layers\n",
    "import numpy as np\n",
    "import matplotlib.pyplot as plt\n",
    "import os\n",
    "import random\n",
    "from datagenerator import DataGenerator\n",
    "import datetime"
   ]
  },
  {
   "cell_type": "markdown",
   "metadata": {},
   "source": [
    "# Hyper-parameters."
   ]
  },
  {
   "cell_type": "code",
   "execution_count": 2,
   "metadata": {},
   "outputs": [],
   "source": [
    "if os.path.exists(\"datasetpath.txt\"):\n",
    "    dataset_path = open(\"datasetpath.txt\", \"r\").read().replace(\"\\n\", \"\")\n",
    "else:\n",
    "    dataset_path = \"../data\"\n",
    "\n",
    "input_type = \"image\"\n",
    "#input_type = \"voxelgrid\"\n",
    "#input_type = \"pointcloud\"\n",
    "#train_size = 500\n",
    "#validate_size = 100"
   ]
  },
  {
   "cell_type": "markdown",
   "metadata": {},
   "source": [
    "# Instantiate the data-generator."
   ]
  },
  {
   "cell_type": "code",
   "execution_count": 3,
   "metadata": {},
   "outputs": [
    {
     "name": "stdout",
     "output_type": "stream",
     "text": [
      "jpg_paths 4511\n",
      "pcd_paths 1360\n",
      "json_paths_personal 40\n",
      "json_paths_measures 74\n",
      "QR-Codes:\n",
      "SAM-02-003-01\n",
      "SAM-GOV-001\n",
      "SAM-GOV-002\n",
      "SAM-GOV-003\n",
      "SAM-GOV-004\n",
      "SAM-GOV-005\n",
      "SAM-GOV-008\n",
      "SAM-GOV-011\n",
      "SAM-GOV-012\n",
      "SAM-GOV-013\n",
      "SAM-GOV-014\n",
      "SAM-GOV-023\n",
      "SAM-GOV-025\n",
      "SAM-GOV-026\n",
      "SAM-GOV-033\n",
      "SAM-GOV-034\n",
      "SAM-GOV-035\n",
      "SAM-GOV-036\n",
      "SAM-GOV-037\n",
      "SAM-GOV-038\n",
      "SAM-GOV-041\n",
      "SAM-GOV-042\n",
      "SAM-GOV-043\n",
      "SAM-GOV-044\n",
      "SAM-GOV-099\n",
      "SAM-SNG-011\n",
      "SAM-SNG-012\n",
      "SAM-SNG-013\n",
      "SAM-SNG-014\n",
      "SAM-SNG-015\n",
      "SAM-SNG-016\n",
      "SAM-SNG-021\n",
      "SAM-SNG-036\n",
      "SAM-SNG-066\n",
      "SAM-SNG-067\n",
      "SAM-SNG-072\n",
      "SAM-SNG-091\n",
      "SAM-SNG-096\n",
      "Done.\n"
     ]
    }
   ],
   "source": [
    "data_generator = DataGenerator(dataset_path=dataset_path, input_type=input_type, output_targets=[\"height\", \"weight\"])\n",
    "\n",
    "print(\"jpg_paths\", len(data_generator.jpg_paths))\n",
    "print(\"pcd_paths\", len(data_generator.pcd_paths))\n",
    "print(\"json_paths_personal\", len(data_generator.json_paths_personal))\n",
    "print(\"json_paths_measures\", len(data_generator.json_paths_measures))\n",
    "print(\"QR-Codes:\\n\" + \"\\n\".join(data_generator.qrcodes))\n",
    "\n",
    "print(\"Done.\")"
   ]
  },
  {
   "cell_type": "markdown",
   "metadata": {},
   "source": [
    "#  Do the training-validation-split on QR-codes."
   ]
  },
  {
   "cell_type": "code",
   "execution_count": 4,
   "metadata": {},
   "outputs": [
    {
     "name": "stdout",
     "output_type": "stream",
     "text": [
      "QR-Codes train:\n",
      "SAM-GOV-014 SAM-GOV-011 SAM-GOV-008 SAM-GOV-037 SAM-GOV-025 SAM-GOV-099 SAM-GOV-035 SAM-GOV-001 SAM-GOV-005 SAM-GOV-034 SAM-GOV-036 SAM-GOV-041 SAM-GOV-043 SAM-GOV-004 SAM-GOV-042 SAM-GOV-044 SAM-GOV-026 SAM-GOV-012 SAM-GOV-033\n",
      "\n",
      "QR-Codes validate:\n",
      "SAM-GOV-002 SAM-GOV-003 SAM-GOV-023 SAM-GOV-013 SAM-GOV-038\n",
      "\n",
      "Done.\n"
     ]
    }
   ],
   "source": [
    "qrcodes_shuffle = list(data_generator.qrcodes)\n",
    "qrcodes_shuffle = [qrcode for qrcode in qrcodes_shuffle if qrcode.startswith(\"SAM-GOV\")]\n",
    "random.shuffle(qrcodes_shuffle)\n",
    "split_index = int(0.8 * len(qrcodes_shuffle))\n",
    "qrcodes_train = qrcodes_shuffle[:split_index]\n",
    "qrcodes_validate = qrcodes_shuffle[split_index:]\n",
    "\n",
    "print(\"QR-Codes train:\")\n",
    "print(\" \".join(qrcodes_train))\n",
    "print(\"\")\n",
    "\n",
    "print(\"QR-Codes validate:\")\n",
    "print(\" \".join(qrcodes_validate))\n",
    "print(\"\")\n",
    "\n",
    "print(\"Done.\")"
   ]
  },
  {
   "cell_type": "markdown",
   "metadata": {},
   "source": [
    "# Do a plausibility check on training-data."
   ]
  },
  {
   "cell_type": "code",
   "execution_count": 5,
   "metadata": {},
   "outputs": [],
   "source": [
    "# TODO"
   ]
  },
  {
   "cell_type": "markdown",
   "metadata": {},
   "source": [
    "# Create a net."
   ]
  },
  {
   "cell_type": "code",
   "execution_count": null,
   "metadata": {},
   "outputs": [
    {
     "name": "stdout",
     "output_type": "stream",
     "text": [
      "_________________________________________________________________\n",
      "Layer (type)                 Output Shape              Param #   \n",
      "=================================================================\n",
      "flatten_1 (Flatten)          (None, 43200)             0         \n",
      "_________________________________________________________________\n",
      "dense_1 (Dense)              (None, 128)               5529728   \n",
      "_________________________________________________________________\n",
      "dense_2 (Dense)              (None, 64)                8256      \n",
      "_________________________________________________________________\n",
      "dense_3 (Dense)              (None, 2)                 130       \n",
      "=================================================================\n",
      "Total params: 5,538,114\n",
      "Trainable params: 5,538,114\n",
      "Non-trainable params: 0\n",
      "_________________________________________________________________\n"
     ]
    }
   ],
   "source": [
    "input_shape = data_generator.input_shape\n",
    "output_size = data_generator.output_size\n",
    "\n",
    "model = models.Sequential()\n",
    "\n",
    "model.add(layers.Flatten(input_shape=input_shape))\n",
    "model.add(layers.Dense(128, activation=\"relu\"))\n",
    "model.add(layers.Dense(64, activation=\"relu\"))\n",
    "model.add(layers.Dense(output_size))\n",
    "model.summary()\n",
    "\n",
    "model.compile(\n",
    "    optimizer=\"rmsprop\",\n",
    "    loss=\"mse\",\n",
    "    metrics=[\"mae\"]\n",
    ")"
   ]
  },
  {
   "cell_type": "markdown",
   "metadata": {},
   "source": [
    "# Train the net."
   ]
  },
  {
   "cell_type": "code",
   "execution_count": null,
   "metadata": {},
   "outputs": [
    {
     "name": "stdout",
     "output_type": "stream",
     "text": [
      "Epoch 1/100\n",
      "32/32 [==============================] - 84s 3s/step - loss: 27355695.3738 - mean_absolute_error: 2675.3140 - val_loss: 4683032.3125 - val_mean_absolute_error: 2146.2574\n",
      "Epoch 2/100\n",
      "32/32 [==============================] - 65s 2s/step - loss: 3272056.4639 - mean_absolute_error: 1423.5109 - val_loss: 3090466.7812 - val_mean_absolute_error: 1289.0822\n",
      "Epoch 3/100\n",
      "32/32 [==============================] - 65s 2s/step - loss: 1754795.9888 - mean_absolute_error: 1108.7865 - val_loss: 3066032.0000 - val_mean_absolute_error: 1627.7969\n",
      "Epoch 4/100\n",
      "32/32 [==============================] - 65s 2s/step - loss: 1567349.9442 - mean_absolute_error: 906.8742 - val_loss: 3793537.6875 - val_mean_absolute_error: 1761.5732\n",
      "Epoch 5/100\n",
      "32/32 [==============================] - 64s 2s/step - loss: 1007747.4948 - mean_absolute_error: 764.6898 - val_loss: 660804.6172 - val_mean_absolute_error: 606.3345\n",
      "Epoch 6/100\n",
      "32/32 [==============================] - 64s 2s/step - loss: 878844.6650 - mean_absolute_error: 741.6818 - val_loss: 82265.5020 - val_mean_absolute_error: 237.1398\n",
      "Epoch 7/100\n",
      "32/32 [==============================] - 64s 2s/step - loss: 343299.3468 - mean_absolute_error: 430.1833 - val_loss: 354374.7266 - val_mean_absolute_error: 566.7397\n",
      "Epoch 8/100\n",
      "32/32 [==============================] - 64s 2s/step - loss: 728581.8926 - mean_absolute_error: 587.0366 - val_loss: 890041.1172 - val_mean_absolute_error: 825.4900\n",
      "Epoch 9/100\n",
      "32/32 [==============================] - 64s 2s/step - loss: 389843.7263 - mean_absolute_error: 416.0162 - val_loss: 11682.0916 - val_mean_absolute_error: 92.3708\n",
      "Epoch 10/100\n",
      "32/32 [==============================] - 65s 2s/step - loss: 443384.8776 - mean_absolute_error: 493.5867 - val_loss: 1704.3379 - val_mean_absolute_error: 33.4243\n",
      "Epoch 11/100\n",
      "32/32 [==============================] - 64s 2s/step - loss: 220008.8205 - mean_absolute_error: 301.1402 - val_loss: 119842.9404 - val_mean_absolute_error: 258.2888\n",
      "Epoch 12/100\n",
      "32/32 [==============================] - 75s 2s/step - loss: 147025.4818 - mean_absolute_error: 292.3114 - val_loss: 179298.6367 - val_mean_absolute_error: 417.5252\n",
      "Epoch 13/100\n",
      "32/32 [==============================] - 70s 2s/step - loss: 265107.5562 - mean_absolute_error: 246.9341 - val_loss: 5852.6323 - val_mean_absolute_error: 67.4146\n",
      "Epoch 14/100\n",
      "32/32 [==============================] - 72s 2s/step - loss: 76985.7175 - mean_absolute_error: 216.5207 - val_loss: 32025.5574 - val_mean_absolute_error: 149.6709\n",
      "Epoch 15/100\n",
      "32/32 [==============================] - 73s 2s/step - loss: 25399.6320 - mean_absolute_error: 121.2650 - val_loss: 7375.0943 - val_mean_absolute_error: 75.6700\n",
      "Epoch 16/100\n",
      "32/32 [==============================] - 69s 2s/step - loss: 105973.9817 - mean_absolute_error: 251.9733 - val_loss: 42984.2935 - val_mean_absolute_error: 173.6709\n",
      "Epoch 17/100\n",
      "32/32 [==============================] - 73s 2s/step - loss: 42735.0594 - mean_absolute_error: 125.2170 - val_loss: 131.1570 - val_mean_absolute_error: 9.3382\n",
      "Epoch 18/100\n",
      "32/32 [==============================] - 68s 2s/step - loss: 15889.8121 - mean_absolute_error: 84.9806 - val_loss: 7722.6948 - val_mean_absolute_error: 68.5483\n",
      "Epoch 19/100\n",
      "32/32 [==============================] - 65s 2s/step - loss: 53017.5369 - mean_absolute_error: 155.4623 - val_loss: 12791.5945 - val_mean_absolute_error: 111.5226\n",
      "Epoch 20/100\n",
      "32/32 [==============================] - 62s 2s/step - loss: 43163.6382 - mean_absolute_error: 148.0946 - val_loss: 27455.6577 - val_mean_absolute_error: 132.9015\n",
      "Epoch 21/100\n",
      "32/32 [==============================] - 62s 2s/step - loss: 46129.0124 - mean_absolute_error: 107.1425 - val_loss: 7698.0359 - val_mean_absolute_error: 83.6127\n",
      "Epoch 22/100\n",
      "32/32 [==============================] - 62s 2s/step - loss: 18649.8171 - mean_absolute_error: 80.4309 - val_loss: 82.5598 - val_mean_absolute_error: 7.4080\n",
      "Epoch 23/100\n",
      "32/32 [==============================] - 64s 2s/step - loss: 11944.7746 - mean_absolute_error: 49.8066 - val_loss: 135.2916 - val_mean_absolute_error: 8.5159\n",
      "Epoch 24/100\n",
      "32/32 [==============================] - 65s 2s/step - loss: 1887.3539 - mean_absolute_error: 32.3006 - val_loss: 1175.2566 - val_mean_absolute_error: 31.8764\n",
      "Epoch 25/100\n",
      "32/32 [==============================] - 68s 2s/step - loss: 943.2406 - mean_absolute_error: 21.2424 - val_loss: 283.1415 - val_mean_absolute_error: 12.7240\n",
      "Epoch 26/100\n",
      "32/32 [==============================] - 68s 2s/step - loss: 1008.4121 - mean_absolute_error: 22.8150 - val_loss: 951.0106 - val_mean_absolute_error: 23.8559\n",
      "Epoch 27/100\n",
      "32/32 [==============================] - 69s 2s/step - loss: 1240.3226 - mean_absolute_error: 26.5517 - val_loss: 351.0362 - val_mean_absolute_error: 14.8915\n",
      "Epoch 28/100\n",
      "31/32 [============================>.] - ETA: 1s - loss: 1090.6603 - mean_absolute_error: 25.6602"
     ]
    }
   ],
   "source": [
    "history = model.fit_generator(\n",
    "    data_generator.generate(size=32, qrcodes_to_use=qrcodes_train),\n",
    "    steps_per_epoch=32,\n",
    "    epochs=100,\n",
    "    validation_data=data_generator.generate(size=32, qrcodes_to_use=qrcodes_validate),\n",
    "    validation_steps=8\n",
    ")"
   ]
  },
  {
   "cell_type": "markdown",
   "metadata": {},
   "source": [
    "# Visualize results."
   ]
  },
  {
   "cell_type": "code",
   "execution_count": null,
   "metadata": {},
   "outputs": [],
   "source": [
    "plt.plot(history.history[\"loss\"], label=\"loss\")\n",
    "plt.plot(history.history[\"val_loss\"], label=\"val_loss\")\n",
    "plt.legend()\n",
    "plt.show()\n",
    "plt.close()\n",
    "\n",
    "plt.plot(history.history[\"mean_absolute_error\"], label=\"mean_absolute_error\")\n",
    "plt.plot(history.history[\"val_mean_absolute_error\"], label=\"val_mean_absolute_error\")\n",
    "plt.legend()\n",
    "plt.show()\n",
    "plt.close()"
   ]
  },
  {
   "cell_type": "markdown",
   "metadata": {},
   "source": [
    "# Save model."
   ]
  },
  {
   "cell_type": "code",
   "execution_count": null,
   "metadata": {},
   "outputs": [],
   "source": [
    "datetime_string = datetime.datetime.now().strftime(\"%Y%m%d-%H%M\")\n",
    "model_name = datetime_string + \".h5\"\n",
    "model_path = os.path.join(model_name)\n",
    "model.save(model_path)"
   ]
  },
  {
   "cell_type": "markdown",
   "metadata": {},
   "source": [
    "# Test the model."
   ]
  },
  {
   "cell_type": "code",
   "execution_count": null,
   "metadata": {},
   "outputs": [],
   "source": [
    "# Generate some data.\n",
    "x_input, y_output = next(data_generator.generate(size=32, qrcodes_to_use=qrcodes_validate))\n",
    "\n",
    "# Evaluate.\n",
    "loss, metric = model.evaluate(x_input, y_output)\n",
    "print(\"Loss:\", loss)\n",
    "print(\"Metric:\", metric)\n",
    "print(\"\")\n",
    "\n",
    "# Do prediction and compare.\n",
    "y_output_pred = model.predict(x_input)\n",
    "#for y_true, y_pred in zip(y_output, y_output_pred):\n",
    "    #print(y_true, y_pred, y_true - y_pred)\n",
    "    \n",
    "plt.title(\"Height \" + input_type)\n",
    "plt.plot(y_output[:,0], label=\"Truth\")\n",
    "plt.plot(y_output_pred[:,0], label=\"Predicted\")\n",
    "plt.plot(np.abs(y_output_pred - y_output)[:,0], label=\"Error\")\n",
    "plt.legend()\n",
    "plt.savefig(datetime_string + \"-\" + input_type + \"-height.jpg\")\n",
    "plt.show()\n",
    "plt.close()\n",
    "\n",
    "plt.title(\"Weight \" + input_type)\n",
    "plt.plot(y_output[:,1], label=\"Truth\")\n",
    "plt.plot(y_output_pred[:,1], label=\"Predicted\")\n",
    "plt.plot(np.abs(y_output_pred - y_output)[:,1], label=\"Error\")\n",
    "plt.legend()\n",
    "plt.savefig(datetime_string + \"-\" + input_type + \"-weight.jpg\")\n",
    "plt.show()\n",
    "plt.close()\n",
    " \n",
    "plt.title(\"Weight for height \" + input_type)\n",
    "plt.plot(y_output[:,1] / y_output[:,0], label=\"Truth\")\n",
    "plt.plot(y_output_pred[:,1] / y_output_pred[:,0], label=\"Predicted\")\n",
    "plt.legend()\n",
    "plt.savefig(datetime_string + \"-\" + input_type + \"-weight_for_height.jpg\")\n",
    "plt.show()\n",
    "plt.close()"
   ]
  },
  {
   "cell_type": "code",
   "execution_count": null,
   "metadata": {},
   "outputs": [],
   "source": []
  }
 ],
 "metadata": {
  "kernelspec": {
   "display_name": "Python 3",
   "language": "python",
   "name": "python3"
  },
  "language_info": {
   "codemirror_mode": {
    "name": "ipython",
    "version": 3
   },
   "file_extension": ".py",
   "mimetype": "text/x-python",
   "name": "python",
   "nbconvert_exporter": "python",
   "pygments_lexer": "ipython3",
   "version": "3.6.4"
  }
 },
 "nbformat": 4,
 "nbformat_minor": 2
}
