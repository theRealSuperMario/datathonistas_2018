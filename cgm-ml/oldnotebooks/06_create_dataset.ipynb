{
 "cells": [
  {
   "cell_type": "markdown",
   "metadata": {},
   "source": [
    "# Dataset-Generator."
   ]
  },
  {
   "cell_type": "code",
   "execution_count": 1,
   "metadata": {},
   "outputs": [
    {
     "name": "stderr",
     "output_type": "stream",
     "text": [
      "Using TensorFlow backend.\n"
     ]
    }
   ],
   "source": [
    "import os\n",
    "from datagenerator import DataGenerator\n",
    "import pickle\n",
    "import random\n",
    "import datetime"
   ]
  },
  {
   "cell_type": "markdown",
   "metadata": {},
   "source": [
    "# Setting the parameters."
   ]
  },
  {
   "cell_type": "code",
   "execution_count": 2,
   "metadata": {},
   "outputs": [],
   "source": [
    "if os.path.exists(\"datasetpath.txt\"):\n",
    "    dataset_path = open(\"datasetpath.txt\", \"r\").read().replace(\"\\n\", \"\")\n",
    "else:\n",
    "    dataset_path = \"../data\"\n",
    "\n",
    "# For creating voxelgrids.\n",
    "dataset_parameters = {}\n",
    "dataset_parameters[\"input_type\"] = \"voxelgrid\"\n",
    "dataset_parameters[\"output_targets\"] = [\"height\", \"weight\"]    \n",
    "dataset_parameters[\"random_seed\"] = 666\n",
    "dataset_parameters[\"voxelgrid_target_shape\"] = (32, 32, 32)\n",
    "dataset_parameters[\"voxel_size_meters\"] = 0.1\n",
    "dataset_parameters[\"voxelgrid_random_rotation\"] = True\n",
    "dataset_parameters[\"dataset_size_train\"] = 6000\n",
    "dataset_parameters[\"dataset_size_test\"] = 1000\n",
    "\n",
    "# For creating pointclouds.\n",
    "#dataset_parameters = {}\n",
    "#dataset_parameters[\"input_type\"] = \"pointcloud\"\n",
    "#dataset_parameters[\"output_targets\"] = [\"height\", \"weight\"]    \n",
    "#dataset_parameters[\"random_seed\"] = 666\n",
    "#dataset_parameters[\"pointcloud_target_size\"] = 30000\n",
    "#dataset_parameters[\"pointcloud_random_rotation\"] = True\n",
    "#dataset_parameters[\"dataset_size_train\"] = 3000\n",
    "#dataset_parameters[\"dataset_size_test\"] = 500"
   ]
  },
  {
   "cell_type": "markdown",
   "metadata": {},
   "source": [
    "# Creating the data-generator.\n",
    "Makes use of the parameters."
   ]
  },
  {
   "cell_type": "code",
   "execution_count": 3,
   "metadata": {},
   "outputs": [
    {
     "name": "stdout",
     "output_type": "stream",
     "text": [
      "Creating data-generator...\n",
      "/Users/tristanbehrens/Datasets/welthungerhilfe/20180727\n",
      "QR-Code SAM-GOV-025 has 1 different manual measurements\n",
      "   Target [67, 6.7] with 160 JPGs and 51 PCDs.\n",
      "QR-Code SAM-GOV-003 has 2 different manual measurements\n",
      "   Target [92.7, 9.7] with 0 JPGs and 0 PCDs.\n",
      "   Target [75.3, 7.1] with 0 JPGs and 0 PCDs.\n",
      "QR-Code SAM-SNG-073 has 3 different manual measurements\n",
      "   Target [82, 8.8] with 122 JPGs and 41 PCDs.\n",
      "   Target [82, 8.8] with 136 JPGs and 40 PCDs.\n",
      "   Target [82, 8.5] with 0 JPGs and 0 PCDs.\n",
      "QR-Code SAM-GOV-014 has 1 different manual measurements\n",
      "   Target [91.1, 11.1] with 279 JPGs and 77 PCDs.\n",
      "QR-Code SAM-GOV-087 has 1 different manual measurements\n",
      "   Target [85.7, 10.2] with 225 JPGs and 60 PCDs.\n",
      "QR-Code SAM-GOV-004 has 1 different manual measurements\n",
      "   Target [76.2, 8.3] with 235 JPGs and 71 PCDs.\n",
      "QR-Code SAM-GOV-026 has 1 different manual measurements\n",
      "   Target [80.1, 9.2] with 145 JPGs and 47 PCDs.\n",
      "QR-Code SAM-GOV-068 has 1 different manual measurements\n",
      "   Target [73.3, 7.4] with 0 JPGs and 0 PCDs.\n",
      "QR-Code SAM-SNG-013 has 1 different manual measurements\n",
      "   Target [93.7, 11.2] with 0 JPGs and 0 PCDs.\n",
      "QR-Code SAM-SNG-072 has 1 different manual measurements\n",
      "   Target [73, 6.7] with 0 JPGs and 0 PCDs.\n",
      "QR-Code SAM-SNG-088 has 1 different manual measurements\n",
      "   Target [85.5, 10.3] with 169 JPGs and 48 PCDs.\n",
      "QR-Code SAM-GOV-045 has 1 different manual measurements\n",
      "   Target [72.1, 6.8] with 107 JPGs and 34 PCDs.\n",
      "QR-Code SAM-GOV-036 has 1 different manual measurements\n",
      "   Target [68.5, 6.3] with 457 JPGs and 141 PCDs.\n",
      "QR-Code SAM-SNG-059 has 1 different manual measurements\n",
      "   Target [78.8, 8.8] with 154 JPGs and 60 PCDs.\n",
      "QR-Code SAM-GOV-049 has 2 different manual measurements\n",
      "   Target [96.4, 11.9] with 80 JPGs and 22 PCDs.\n",
      "   Target [95.4, 11.9] with 80 JPGs and 22 PCDs.\n",
      "QR-Code prod_test_1 has 2 different manual measurements\n",
      "   Target [68.3, 6.5] with 0 JPGs and 0 PCDs.\n",
      "   Target [98.2, 15.3] with 0 JPGs and 0 PCDs.\n",
      "QR-Code SAM-SNG-083 has 1 different manual measurements\n",
      "   Target [102.1, 14.3] with 100 JPGs and 34 PCDs.\n",
      "QR-Code SAM-GOV-066 has 1 different manual measurements\n",
      "   Target [62.2, 5.8] with 77 JPGs and 24 PCDs.\n",
      "QR-Code SAM-GOV-088 has 1 different manual measurements\n",
      "   Target [57.8, 5.7] with 124 JPGs and 39 PCDs.\n",
      "QR-Code SAM-SNG-075 has 1 different manual measurements\n",
      "   Target [92.7, 9.6] with 50 JPGs and 14 PCDs.\n",
      "QR-Code SAM-GOV-051 has 1 different manual measurements\n",
      "   Target [75.3, 7.3] with 118 JPGs and 40 PCDs.\n",
      "QR-Code SAM-GOV-033 has 1 different manual measurements\n",
      "   Target [68.7, 6.4] with 192 JPGs and 57 PCDs.\n",
      "QR-Code SAM-SNG-076 has 1 different manual measurements\n",
      "   Target [80, 8.9] with 149 JPGs and 37 PCDs.\n",
      "QR-Code SAM-GOV-042 has 1 different manual measurements\n",
      "   Target [96, 12.7] with 136 JPGs and 40 PCDs.\n",
      "QR-Code SAM-SNG-012 has 1 different manual measurements\n",
      "   Target [67, 6.9] with 0 JPGs and 0 PCDs.\n",
      "QR-Code SAM-GOV-034 has 1 different manual measurements\n",
      "   Target [84.8, 11.1] with 216 JPGs and 64 PCDs.\n",
      "QR-Code SAM-GOV-035 has 1 different manual measurements\n",
      "   Target [70.1, 7.1] with 118 JPGs and 38 PCDs.\n",
      "QR-Code SAM-SNG-070 has 1 different manual measurements\n",
      "   Target [66.4, 5.6] with 180 JPGs and 53 PCDs.\n",
      "QR-Code SAM-GOV-023 has 1 different manual measurements\n",
      "   Target [69.5, 6.5] with 162 JPGs and 50 PCDs.\n",
      "QR-Code SAM-GOV-054 has 1 different manual measurements\n",
      "   Target [93.4, 10.8] with 80 JPGs and 24 PCDs.\n",
      "QR-Code SAM-GOV-052 has 1 different manual measurements\n",
      "   Target [80.3, 9.3] with 112 JPGs and 33 PCDs.\n",
      "QR-Code SAM-GOV-037 has 1 different manual measurements\n",
      "   Target [65.3, 6.1] with 165 JPGs and 51 PCDs.\n",
      "QR-Code SAM-GOV-089 has 1 different manual measurements\n",
      "   Target [96.6, 12.2] with 108 JPGs and 31 PCDs.\n",
      "QR-Code SAM-SNG-095 has 2 different manual measurements\n",
      "   Target [87.7, 10.6] with 256 JPGs and 72 PCDs.\n",
      "   Target [87.7, 10.9] with 170 JPGs and 49 PCDs.\n",
      "QR-Code SAM-SNG-081 has 1 different manual measurements\n",
      "   Target [78.6, 8.1] with 278 JPGs and 75 PCDs.\n",
      "QR-Code SAM-SNG-099 has 1 different manual measurements\n",
      "   Target [75.2, 8.2] with 64 JPGs and 17 PCDs.\n",
      "QR-Code SAM-SNG-061 has 1 different manual measurements\n",
      "   Target [79, 8.5] with 236 JPGs and 74 PCDs.\n",
      "QR-Code SAM-GOV-038 has 1 different manual measurements\n",
      "   Target [67.2, 7.6] with 141 JPGs and 40 PCDs.\n",
      "QR-Code SAM-GOV-041 has 1 different manual measurements\n",
      "   Target [68.2, 7.1] with 149 JPGs and 48 PCDs.\n",
      "QR-Code SAM-SNG-098 has 1 different manual measurements\n",
      "   Target [81.7, 8.7] with 388 JPGs and 119 PCDs.\n",
      "QR-Code SAM-GOV-090 has 1 different manual measurements\n",
      "   Target [68.1, 6.4] with 141 JPGs and 47 PCDs.\n",
      "QR-Code SAM-SNG-086 has 1 different manual measurements\n",
      "   Target [86.5, 9.7] with 143 JPGs and 41 PCDs.\n",
      "QR-Code SAM-SNG-096 has 2 different manual measurements\n",
      "   Target [100.3, 12.4] with 70 JPGs and 21 PCDs.\n",
      "   Target [100.3, 12.5] with 0 JPGs and 0 PCDs.\n",
      "QR-Code SAM-SNG-085 has 1 different manual measurements\n",
      "   Target [92.2, 10.8] with 171 JPGs and 53 PCDs.\n",
      "QR-Code SAM-SNG-067 has 1 different manual measurements\n",
      "   Target [78, 8.3] with 150 JPGs and 40 PCDs.\n",
      "QR-Code SAM-SNG-011 has 1 different manual measurements\n",
      "   Target [71, 6.2] with 0 JPGs and 0 PCDs.\n",
      "QR-Code SAM-GOV-043 has 1 different manual measurements\n",
      "   Target [69.3, 7.6] with 183 JPGs and 56 PCDs.\n",
      "QR-Code SAM-SNG-014 has 2 different manual measurements\n",
      "   Target [82.3, 8.9] with 0 JPGs and 0 PCDs.\n",
      "   Target [82.3, 8.7] with 224 JPGs and 73 PCDs.\n",
      "QR-Code SAM-GOV-013 has 1 different manual measurements\n",
      "   Target [63, 6.1] with 136 JPGs and 42 PCDs.\n",
      "QR-Code SAM-SNG-084 has 2 different manual measurements\n",
      "   Target [86, 10] with 137 JPGs and 42 PCDs.\n",
      "   Target [86, 10.1] with 137 JPGs and 50 PCDs.\n",
      "QR-Code SAM-SNG-087 has 2 different manual measurements\n",
      "   Target [90.4, 9.8] with 233 JPGs and 71 PCDs.\n",
      "   Target [88.5, 10] with 188 JPGs and 61 PCDs.\n",
      "QR-Code SAM-GOV-002 has 1 different manual measurements\n",
      "   Target [67.2, 6.2] with 144 JPGs and 46 PCDs.\n",
      "QR-Code SAM-GOV-050 has 1 different manual measurements\n",
      "   Target [97.4, 11.3] with 210 JPGs and 63 PCDs.\n",
      "QR-Code SAM-GOV-046 has 1 different manual measurements\n",
      "   Target [76, 7.2] with 0 JPGs and 0 PCDs.\n",
      "QR-Code SAM-GOV-011 has 1 different manual measurements\n",
      "   Target [85.5, 10.8] with 174 JPGs and 51 PCDs.\n",
      "QR-Code SAM-SNG-015 has 1 different manual measurements\n",
      "   Target [89.5, 10.5] with 0 JPGs and 0 PCDs.\n",
      "QR-Code SAM-GOV-005 has 1 different manual measurements\n",
      "   Target [76.5, 8.4] with 262 JPGs and 77 PCDs.\n",
      "QR-Code SAM-GOV-044 has 1 different manual measurements\n",
      "   Target [64.9, 7.9] with 142 JPGs and 45 PCDs.\n",
      "QR-Code SAM-GOV-012 has 1 different manual measurements\n",
      "   Target [77.1, 8.1] with 157 JPGs and 46 PCDs.\n",
      "QR-Code SAM-SNG-091 has 1 different manual measurements\n",
      "   Target [68.5, 6] with 0 JPGs and 0 PCDs.\n",
      "QR-Code SAM-GOV-008 has 1 different manual measurements\n",
      "   Target [73.7, 7.1] with 162 JPGs and 55 PCDs.\n",
      "QR-Code SAM-SNG-074 has 1 different manual measurements\n",
      "   Target [77.5, 8.3] with 144 JPGs and 41 PCDs.\n",
      "QR-Code SAM-SNG-036 has 1 different manual measurements\n",
      "   Target [78, 7.9] with 90 JPGs and 24 PCDs.\n",
      "QR-Code SAM-GOV-099 has 1 different manual measurements\n",
      "   Target [89.3, 10.8] with 122 JPGs and 35 PCDs.\n",
      "QR-Code SAM-SNG-021 has 1 different manual measurements\n",
      "   Target [101.2, 13.6] with 0 JPGs and 0 PCDs.\n",
      "QR-Code test1 has 1 different manual measurements\n",
      "   Target [50.79999923706055, 3.568000078201294] with 0 JPGs and 0 PCDs.\n",
      "QR-Code SAM-SNG-016 has 1 different manual measurements\n",
      "   Target [95, 11.9] with 0 JPGs and 0 PCDs.\n",
      "QR-Code SAM-SNG-066 has 2 different manual measurements\n",
      "   Target [89.4, 9.9] with 133 JPGs and 36 PCDs.\n",
      "   Target [89.4, 10.2] with 0 JPGs and 0 PCDs.\n"
     ]
    }
   ],
   "source": [
    "print(\"Creating data-generator...\")\n",
    "data_generator = DataGenerator(\n",
    "    dataset_path=dataset_path, \n",
    "    input_type=dataset_parameters[\"input_type\"], \n",
    "    output_targets=dataset_parameters[\"output_targets\"],\n",
    "    voxelgrid_target_shape=dataset_parameters.get(\"voxelgrid_target_shape\", None),\n",
    "    voxel_size_meters=dataset_parameters.get(\"voxel_size_meters\", None),\n",
    "    voxelgrid_random_rotation=dataset_parameters.get(\"voxelgrid_random_rotation\", None),\n",
    "    pointcloud_target_size=dataset_parameters.get(\"pointcloud_target_size\", None),\n",
    "    pointcloud_random_rotation=dataset_parameters.get(\"pointcloud_random_rotation\", None)\n",
    ")\n",
    "data_generator.print_statistics()"
   ]
  },
  {
   "cell_type": "markdown",
   "metadata": {},
   "source": [
    "# Analysis."
   ]
  },
  {
   "cell_type": "code",
   "execution_count": 4,
   "metadata": {},
   "outputs": [
    {
     "name": "stdout",
     "output_type": "stream",
     "text": [
      "Skipped analysis.\n"
     ]
    }
   ],
   "source": [
    "do_analysis = False\n",
    "#do_analysis = True\n",
    "\n",
    "if do_analysis == True:\n",
    "    data_generator.analyze_files()\n",
    "    data_generator.analyze_targets()\n",
    "    data_generator.analyze_pointclouds()\n",
    "    data_generator.analyze_voxelgrids()\n",
    "    # how much data per measure?\n",
    "else:\n",
    "    print(\"Skipped analysis.\")"
   ]
  },
  {
   "cell_type": "markdown",
   "metadata": {},
   "source": [
    "# Do the train-test-split and generate."
   ]
  },
  {
   "cell_type": "code",
   "execution_count": null,
   "metadata": {},
   "outputs": [
    {
     "name": "stdout",
     "output_type": "stream",
     "text": [
      "\n",
      "QR-Codes for training: SAM-02-003-01 SAM-GOV-002 SAM-GOV-003 SAM-GOV-004 SAM-GOV-005 SAM-GOV-011 SAM-GOV-012 SAM-GOV-014 SAM-GOV-023 SAM-GOV-025 SAM-GOV-026 SAM-GOV-033 SAM-GOV-035 SAM-GOV-036 SAM-GOV-037 SAM-GOV-038 SAM-GOV-041 SAM-GOV-042 SAM-GOV-043 SAM-GOV-044 SAM-GOV-046 SAM-GOV-049 SAM-GOV-050 SAM-GOV-051 SAM-GOV-054 SAM-GOV-066 SAM-GOV-068 SAM-GOV-087 SAM-GOV-088 SAM-GOV-089 SAM-GOV-099 SAM-SNG-011 SAM-SNG-012 SAM-SNG-014 SAM-SNG-016 SAM-SNG-021 SAM-SNG-036 SAM-SNG-059 SAM-SNG-061 SAM-SNG-067 SAM-SNG-068 SAM-SNG-070 SAM-SNG-073 SAM-SNG-074 SAM-SNG-076 SAM-SNG-084 SAM-SNG-085 SAM-SNG-086 SAM-SNG-087 SAM-SNG-088 SAM-SNG-095 SAM-SNG-096 SAM-SNG-097 SAM-SNG-098 SAM-SNG-099 prod_test_1 test1\n",
      "\n",
      "QR-Codes for testing: SAM-GOV-001 SAM-GOV-008 SAM-GOV-013 SAM-GOV-034 SAM-GOV-045 SAM-GOV-052 SAM-GOV-090 SAM-SNG-013 SAM-SNG-015 SAM-SNG-066 SAM-SNG-072 SAM-SNG-075 SAM-SNG-081 SAM-SNG-083 SAM-SNG-091\n",
      "\n",
      "Generating training data...\n"
     ]
    },
    {
     "name": "stderr",
     "output_type": "stream",
     "text": [
      "  1% (71 of 6000) |                      | Elapsed Time: 0:00:23 ETA:   0:33:45"
     ]
    }
   ],
   "source": [
    "# Do the split.\n",
    "random.seed(dataset_parameters[\"random_seed\"])\n",
    "qrcodes_shuffle = data_generator.qrcodes[:]\n",
    "random.shuffle(qrcodes_shuffle)\n",
    "split_index = int(0.8 * len(qrcodes_shuffle))\n",
    "qrcodes_train = sorted(qrcodes_shuffle[:split_index])\n",
    "qrcodes_test = sorted(qrcodes_shuffle[split_index:])\n",
    "del qrcodes_shuffle\n",
    "print(\"\")\n",
    "\n",
    "print(\"QR-Codes for training:\", \" \".join(qrcodes_train))\n",
    "print(\"\")\n",
    "print(\"QR-Codes for testing:\", \" \".join(qrcodes_test))\n",
    "print(\"\")\n",
    "\n",
    "print(\"Generating training data...\")\n",
    "dataset_train = next(data_generator.generate(size=dataset_parameters[\"dataset_size_train\"], qrcodes_to_use=qrcodes_train, verbose=True))\n",
    "\n",
    "print(\"Generating testing data...\")\n",
    "dataset_test = next(data_generator.generate(size=dataset_parameters[\"dataset_size_test\"], qrcodes_to_use=qrcodes_test, verbose=True))\n",
    "    \n",
    "print(\"Done.\")"
   ]
  },
  {
   "cell_type": "markdown",
   "metadata": {},
   "source": [
    "# Saving."
   ]
  },
  {
   "cell_type": "code",
   "execution_count": 12,
   "metadata": {},
   "outputs": [
    {
     "name": "stdout",
     "output_type": "stream",
     "text": [
      "Saved 20180727-1622-voxelgrid-dataset.p\n"
     ]
    }
   ],
   "source": [
    "datetime_string = datetime.datetime.now().strftime(\"%Y%m%d-%H%M\")\n",
    "dataset_name = datetime_string + \"-\" + dataset_parameters[\"input_type\"] + \"-dataset.p\"\n",
    "pickle.dump((dataset_train, dataset_test, dataset_parameters), open(dataset_name, \"wb\"))\n",
    "print(\"Saved \" + dataset_name)"
   ]
  },
  {
   "cell_type": "markdown",
   "metadata": {},
   "source": [
    "# Loading and analyzing dataset."
   ]
  },
  {
   "cell_type": "code",
   "execution_count": 6,
   "metadata": {},
   "outputs": [
    {
     "name": "stdout",
     "output_type": "stream",
     "text": [
      "Loading dataset...\n",
      "Done.\n"
     ]
    }
   ],
   "source": [
    "#dataset_name = \"20180717-1102-voxelgrid-dataset.p\"\n",
    "#dataset_name = \"20180717-1236-pointcloud-dataset.p\"\n",
    "\n",
    "#print(\"Loading dataset...\")\n",
    "#(x_input_train, y_output_train), (x_input_test, y_output_test), dataset_parameters = pickle.load(open(dataset_name, \"rb\"))\n",
    "#print(\"Done.\")"
   ]
  },
  {
   "cell_type": "code",
   "execution_count": 7,
   "metadata": {},
   "outputs": [
    {
     "name": "stdout",
     "output_type": "stream",
     "text": [
      "Training data input shape: (3000,)\n",
      "Training data output shape: (3000, 2)\n",
      "Testing data input shape: (500,)\n",
      "Testing data output shape: (500, 2)\n",
      "\n",
      "Parameters:\n",
      "input_type: pointcloud\n",
      "output_targets: ['height', 'weight']\n",
      "random_seed: 666\n",
      "pointcloud_target_size: 30000\n",
      "pointcloud_random_rotation: True\n",
      "dataset_size_train: 3000\n",
      "dataset_size_test: 500\n"
     ]
    }
   ],
   "source": [
    "#print(\"Training data input shape:\", x_input_train.shape)\n",
    "#print(\"Training data output shape:\", y_output_train.shape)\n",
    "#print(\"Testing data input shape:\", x_input_test.shape)\n",
    "#print(\"Testing data output shape:\", y_output_test.shape)\n",
    "#print(\"\")\n",
    "\n",
    "#print(\"Parameters:\")\n",
    "#print(\"\\n\".join([str(key) + \": \" + str(value) for key, value in dataset_parameters.items()]))"
   ]
  },
  {
   "cell_type": "code",
   "execution_count": null,
   "metadata": {},
   "outputs": [],
   "source": [
    "#print(x_input_train[3].shape)"
   ]
  },
  {
   "cell_type": "code",
   "execution_count": null,
   "metadata": {},
   "outputs": [],
   "source": []
  }
 ],
 "metadata": {
  "kernelspec": {
   "display_name": "Python 3",
   "language": "python",
   "name": "python3"
  },
  "language_info": {
   "codemirror_mode": {
    "name": "ipython",
    "version": 3
   },
   "file_extension": ".py",
   "mimetype": "text/x-python",
   "name": "python",
   "nbconvert_exporter": "python",
   "pygments_lexer": "ipython3",
   "version": "3.6.5"
  }
 },
 "nbformat": 4,
 "nbformat_minor": 2
}
