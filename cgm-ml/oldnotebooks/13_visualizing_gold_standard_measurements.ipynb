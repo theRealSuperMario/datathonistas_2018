{
 "cells": [
  {
   "cell_type": "code",
   "execution_count": 1,
   "metadata": {},
   "outputs": [],
   "source": [
    "import os\n",
    "import pickle\n",
    "import numpy as np\n",
    "import matplotlib.pyplot as plt"
   ]
  },
  {
   "cell_type": "code",
   "execution_count": 2,
   "metadata": {},
   "outputs": [
    {
     "name": "stdout",
     "output_type": "stream",
     "text": [
      "Loading dataset...\n",
      "{'input_type': 'voxelgrid', 'output_targets': ['height', 'weight'], 'random_seed': 666, 'voxelgrid_target_shape': (32, 32, 32), 'voxel_size_meters': 0.1, 'voxelgrid_random_rotation': True, 'dataset_size_train': 6000, 'dataset_size_test': 1000}\n"
     ]
    }
   ],
   "source": [
    "dataset_name = \"/home/jovyan/work/data/datasets/20180727-2215-voxelgrid-dataset.p\"\n",
    "\n",
    "print(\"Loading dataset...\")\n",
    "(x_input_train, y_output_train), (x_input_test, y_output_test), dataset_parameters = pickle.load(open(dataset_name, \"rb\"))\n",
    "print(dataset_parameters)"
   ]
  },
  {
   "cell_type": "code",
   "execution_count": 3,
   "metadata": {},
   "outputs": [],
   "source": [
    "heightTrainArray = [i[0] for i in y_output_train]\n",
    "weightTrainArray = [i[1] for i in y_output_train]\n",
    "heightTestArray = [i[0] for i in y_output_test]\n",
    "weightTestArray = [i[1] for i in y_output_test]"
   ]
  },
  {
   "cell_type": "code",
   "execution_count": 4,
   "metadata": {},
   "outputs": [
    {
     "data": {
      "text/plain": [
       "<function matplotlib.pyplot.show(*args, **kw)>"
      ]
     },
     "execution_count": 4,
     "metadata": {},
     "output_type": "execute_result"
    },
    {
     "data": {
      "image/png": "[encoded data removed]",
      "text/plain": [
       "<Figure size 432x288 with 1 Axes>"
      ]
     },
     "metadata": {},
     "output_type": "display_data"
    }
   ],
   "source": [
    "fig, ax = plt.subplots()\n",
    "s = 121\n",
    "x1=heightTrainArray\n",
    "y1=weightTrainArray\n",
    "x2=heightTestArray\n",
    "y2=weightTestArray\n",
    "ax.scatter(x1, y1, color='b', s=2*s, marker='^', alpha=.4)\n",
    "ax.scatter(x2, y2, color='g', s=s/2, alpha=.4)\n",
    "plt.show"
   ]
  }
 ],
 "metadata": {
  "kernelspec": {
   "display_name": "Python 3",
   "language": "python",
   "name": "python3"
  },
  "language_info": {
   "codemirror_mode": {
    "name": "ipython",
    "version": 3
   },
   "file_extension": ".py",
   "mimetype": "text/x-python",
   "name": "python",
   "nbconvert_exporter": "python",
   "pygments_lexer": "ipython3",
   "version": "3.6.4"
  }
 },
 "nbformat": 4,
 "nbformat_minor": 2
}
