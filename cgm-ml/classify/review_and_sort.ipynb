{
 "cells": [
  {
   "cell_type": "code",
   "execution_count": null,
   "metadata": {},
   "outputs": [],
   "source": [
    "import os\n",
    "import glob2\n",
    "import ipywidgets as widgets\n",
    "from ipywidgets import interact, interact_manual, fixed\n",
    "from random import randint\n",
    "#from IPython.display import Image\n",
    "from IPython.core.display import Image, display\n",
    "import shutil"
   ]
  },
  {
   "cell_type": "code",
   "execution_count": null,
   "metadata": {},
   "outputs": [],
   "source": [
    "def move(q,d):\n",
    "    print(\"moving %s to %s\" % (q,d))\n",
    "    print(\"files:\")\n",
    "    files = qrdict.get(q)\n",
    "    for filename in files:\n",
    "        #print(\"mv %s %s\" % (filename,filename.replace(\"undefined\",d)))\n",
    "        shutil.move(filename,filename.replace(\"undefined\",d).replace(\"train\",\"validation\"))\n",
    "    print(\"finished moving %s files\" % len(files))"
   ]
  },
  {
   "cell_type": "code",
   "execution_count": null,
   "metadata": {},
   "outputs": [],
   "source": [
    "def create_qrcodes_dictionary():\n",
    "    \"\"\"\n",
    "    Creates a QR-Code-dictionary.\n",
    "\n",
    "    This basically sorts all PCDs and JPGs.\n",
    "    With respect to the targets and the QR-Codes.\n",
    "    This is used heavily during data generation.\n",
    "    Takes into account timestamps in order to connect data and measures.\n",
    "    \"\"\"\n",
    "    training_path = \"/home/jupyter-mmatiaschek/classify-data/train/undefined/\"\n",
    "    glob_search_path = os.path.join(training_path, \"*.jpg\")\n",
    "    jpg_paths = glob2.glob(glob_search_path)\n",
    "    print(\"jpg_paths\", len(jpg_paths))\n",
    "\n",
    "    qrcodes_dictionary = {}\n",
    "    print(\"inside create_qrcodes_dictionary \")\n",
    "\n",
    "    # Go thorugh all measures.\n",
    "    for jpg in jpg_paths:\n",
    "        #print(\"Processing jpg path file %s\" % str(jpg))\n",
    "        # Extract the QR-code.\n",
    "        qrcode, rest = jpg.split(\"rgb_\")[1].split(\"_104_\")[0].split(\"_107_\")[0].split(\"_110_\")[0].split(\"_111_\")[0].rsplit(\"_\",1)\n",
    "        timestamp = rest.split(\"_\", 1)[0]\n",
    "        #print(\"Extracted qr code %s\" % str(qrcode))\n",
    "\n",
    "        if qrcode not in qrcodes_dictionary.keys():\n",
    "            qrcodes_dictionary[qrcode] = []\n",
    "            print(\"Added qr code %s into dictionary\" %\n",
    "                 (qrcode))#, str(timestamps)))\n",
    "        \n",
    "        #jpgs = []\n",
    "        #jpgs = qrcodes_dictionary.get(qrcode)\n",
    "        #jpgs.append(jpg)\n",
    "        qrcodes_dictionary[qrcode].append(jpg)\n",
    "        #print(len(qrcodes_dictionary.get(qrcode)))\n",
    "\n",
    "    return qrcodes_dictionary"
   ]
  },
  {
   "cell_type": "code",
   "execution_count": null,
   "metadata": {
    "scrolled": true
   },
   "outputs": [],
   "source": [
    "qrdict = create_qrcodes_dictionary()"
   ]
  },
  {
   "cell_type": "code",
   "execution_count": null,
   "metadata": {
    "scrolled": true
   },
   "outputs": [],
   "source": [
    "for qr in qrdict:\n",
    "    print(qr)\n",
    "    values = qrdict.get(qr)\n",
    "    index = randint(0,len(values))-1\n",
    "    img_filename = qrdict.get(qr)[index]\n",
    "    print(\"File %s: %s\" % (index, img_filename))\n",
    "    display(Image(filename=img_filename, width=216, height=384))\n",
    "    interact_manual(move,q=qr,d=\"standing\")\n",
    "    interact_manual(move,q=qr,d=\"lying\")\n",
    "    #print(\"Value : %s\" %  len(qrdict.get(qr)))\n",
    "    #print(list(qrdict.values())) # randint(0,len(jpg))"
   ]
  },
  {
   "cell_type": "code",
   "execution_count": null,
   "metadata": {},
   "outputs": [],
   "source": [
    "values = qrdict.get('SAM-SNG-036')\n",
    "index = randint(0,len(values))\n",
    "print(\"File %s: %s\" % (index, qrdict.get('MP_WHH_0006')[index]))\n",
    "Image(filename=qrdict.get('MP_WHH_0006')[index], width=216, height=384)"
   ]
  }
 ],
 "metadata": {
  "kernelspec": {
   "display_name": "Python 3",
   "language": "python",
   "name": "python3"
  },
  "language_info": {
   "codemirror_mode": {
    "name": "ipython",
    "version": 3
   },
   "file_extension": ".py",
   "mimetype": "text/x-python",
   "name": "python",
   "nbconvert_exporter": "python",
   "pygments_lexer": "ipython3",
   "version": "3.6.5"
  }
 },
 "nbformat": 4,
 "nbformat_minor": 2
}
