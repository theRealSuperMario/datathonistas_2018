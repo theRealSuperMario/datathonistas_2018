{
 "cells": [
  {
   "cell_type": "markdown",
   "metadata": {},
   "source": [
    "# About Keras and MNIST.\n",
    "\n",
    "When it comes to Deep Learning there are many viable framework-options. One is Keras (https://keras.io), which we currently use most. Note that we do not restrict ourselves to Keras-only. Me might use other frameworks in the future. Nevertheless Keras is excellent when it comes to rapid prototyping. And it is way easier to understand than for example TensorFlow and PyTorch.\n",
    "\n",
    "MNIST (https://en.wikipedia.org/wiki/MNIST_database) is a database of handwritten digits. It poses a supervised learning problem. This means that you have labelled data. In our case pictures of the mentioned digits plus the actual digit as a number. MNIST is the Hello-World of Machine Learning."
   ]
  },
  {
   "cell_type": "markdown",
   "metadata": {},
   "source": [
    "# Imports.\n",
    "\n",
    "Firstly, we import all the necessary modules. Keras comes with a wide variety of modules."
   ]
  },
  {
   "cell_type": "code",
   "execution_count": 1,
   "metadata": {},
   "outputs": [
    {
     "name": "stderr",
     "output_type": "stream",
     "text": [
      "Using TensorFlow backend.\n"
     ]
    }
   ],
   "source": [
    "import keras\n",
    "from keras.datasets import mnist\n",
    "from keras.models import Sequential\n",
    "from keras.layers import Dense, Dropout\n",
    "from keras.optimizers import RMSprop"
   ]
  },
  {
   "cell_type": "markdown",
   "metadata": {},
   "source": [
    "# Hyperparameters.\n",
    "\n",
    "Deep Learning is to a certain degree a hyperparameter-optimization problem. In order to find the best model, you have to tweak those."
   ]
  },
  {
   "cell_type": "code",
   "execution_count": 2,
   "metadata": {},
   "outputs": [],
   "source": [
    "batch_size = 128\n",
    "num_classes = 10\n",
    "epochs = 20"
   ]
  },
  {
   "cell_type": "markdown",
   "metadata": {},
   "source": [
    "# Get the data and preprocess it.\n",
    "\n",
    "In Deep Learning the most significant part is not training the Neural Network. It is getting and preprocessing data. In the following we will load the MNIST data. The inputs will be normalized, the outputs will be categorically encoded."
   ]
  },
  {
   "cell_type": "code",
   "execution_count": 3,
   "metadata": {},
   "outputs": [
    {
     "name": "stdout",
     "output_type": "stream",
     "text": [
      "Downloading data from https://s3.amazonaws.com/img-datasets/mnist.npz\n",
      "11493376/11490434 [==============================] - 1s 0us/step\n",
      "60000 train samples\n",
      "10000 test samples\n"
     ]
    }
   ],
   "source": [
    "(x_train, y_train), (x_test, y_test) = mnist.load_data()\n",
    "\n",
    "x_train = x_train.reshape(60000, 784)\n",
    "x_test = x_test.reshape(10000, 784)\n",
    "x_train = x_train.astype('float32')\n",
    "x_test = x_test.astype('float32')\n",
    "x_train /= 255\n",
    "x_test /= 255\n",
    "print(x_train.shape[0], 'train samples')\n",
    "print(x_test.shape[0], 'test samples')\n",
    "\n",
    "# convert class vectors to binary class matrices\n",
    "y_train = keras.utils.to_categorical(y_train, num_classes)\n",
    "y_test = keras.utils.to_categorical(y_test, num_classes)"
   ]
  },
  {
   "cell_type": "markdown",
   "metadata": {},
   "source": [
    "# Defining the Neural Network architecture.\n",
    "\n",
    "Now we will create a fully connected Neural Network with a couple of layers. The network in its essence takes an image of a handwritten digit and maps it to a symbolic representation of a digit. This symbolic representation is a probability distribution. This is a so called classifier."
   ]
  },
  {
   "cell_type": "code",
   "execution_count": 4,
   "metadata": {},
   "outputs": [
    {
     "name": "stdout",
     "output_type": "stream",
     "text": [
      "_________________________________________________________________\n",
      "Layer (type)                 Output Shape              Param #   \n",
      "=================================================================\n",
      "dense_1 (Dense)              (None, 512)               401920    \n",
      "_________________________________________________________________\n",
      "dropout_1 (Dropout)          (None, 512)               0         \n",
      "_________________________________________________________________\n",
      "dense_2 (Dense)              (None, 512)               262656    \n",
      "_________________________________________________________________\n",
      "dropout_2 (Dropout)          (None, 512)               0         \n",
      "_________________________________________________________________\n",
      "dense_3 (Dense)              (None, 10)                5130      \n",
      "=================================================================\n",
      "Total params: 669,706\n",
      "Trainable params: 669,706\n",
      "Non-trainable params: 0\n",
      "_________________________________________________________________\n"
     ]
    }
   ],
   "source": [
    "model = Sequential()\n",
    "model.add(Dense(512, activation='relu', input_shape=(784,)))\n",
    "model.add(Dropout(0.2))\n",
    "model.add(Dense(512, activation='relu'))\n",
    "model.add(Dropout(0.2))\n",
    "model.add(Dense(num_classes, activation='softmax'))\n",
    "model.summary()"
   ]
  },
  {
   "cell_type": "markdown",
   "metadata": {},
   "source": [
    "# Compiling the model.\n",
    "\n",
    "Compiling means:\n",
    "- Adding a loss, which is a number that tells you how big the error of the current network is.\n",
    "- Adding an optimizer. That is a training algorithm that trains the network.\n",
    "- Adding one or multiple metrics (optional). Providing a means for humans to understand how good the network is."
   ]
  },
  {
   "cell_type": "code",
   "execution_count": 5,
   "metadata": {},
   "outputs": [],
   "source": [
    "model.compile(loss='categorical_crossentropy',\n",
    "              optimizer=RMSprop(),\n",
    "              metrics=['accuracy'])"
   ]
  },
  {
   "cell_type": "markdown",
   "metadata": {},
   "source": [
    "# Training the Neural Network.\n",
    "\n",
    "Training means fitting the network over time, that is over a number of epochs, using training data. This means changing weights and parameters of the network. Also it means validating the network against a validation set at the end of each epoch."
   ]
  },
  {
   "cell_type": "code",
   "execution_count": 6,
   "metadata": {},
   "outputs": [
    {
     "name": "stdout",
     "output_type": "stream",
     "text": [
      "Train on 60000 samples, validate on 10000 samples\n",
      "Epoch 1/20\n",
      "60000/60000 [==============================] - 7s 116us/step - loss: 0.2428 - acc: 0.9250 - val_loss: 0.1019 - val_acc: 0.9675\n",
      "Epoch 2/20\n",
      "60000/60000 [==============================] - 1s 22us/step - loss: 0.1032 - acc: 0.9692 - val_loss: 0.0879 - val_acc: 0.9733\n",
      "Epoch 3/20\n",
      "60000/60000 [==============================] - 1s 22us/step - loss: 0.0750 - acc: 0.9778 - val_loss: 0.0718 - val_acc: 0.9783\n",
      "Epoch 4/20\n",
      "60000/60000 [==============================] - 1s 23us/step - loss: 0.0602 - acc: 0.9825 - val_loss: 0.0708 - val_acc: 0.9821\n",
      "Epoch 5/20\n",
      "60000/60000 [==============================] - 1s 23us/step - loss: 0.0482 - acc: 0.9853 - val_loss: 0.0621 - val_acc: 0.9833\n",
      "Epoch 6/20\n",
      "60000/60000 [==============================] - 1s 22us/step - loss: 0.0433 - acc: 0.9876 - val_loss: 0.0902 - val_acc: 0.9763\n",
      "Epoch 7/20\n",
      "60000/60000 [==============================] - 1s 22us/step - loss: 0.0379 - acc: 0.9887 - val_loss: 0.0790 - val_acc: 0.9818\n",
      "Epoch 8/20\n",
      "60000/60000 [==============================] - 1s 22us/step - loss: 0.0354 - acc: 0.9892 - val_loss: 0.0789 - val_acc: 0.9820\n",
      "Epoch 9/20\n",
      "60000/60000 [==============================] - 1s 22us/step - loss: 0.0307 - acc: 0.9911 - val_loss: 0.0898 - val_acc: 0.9796\n",
      "Epoch 10/20\n",
      "60000/60000 [==============================] - 1s 23us/step - loss: 0.0304 - acc: 0.9915 - val_loss: 0.0887 - val_acc: 0.9825\n",
      "Epoch 11/20\n",
      "60000/60000 [==============================] - 1s 22us/step - loss: 0.0278 - acc: 0.9917 - val_loss: 0.1083 - val_acc: 0.9793\n",
      "Epoch 12/20\n",
      "60000/60000 [==============================] - 1s 22us/step - loss: 0.0235 - acc: 0.9936 - val_loss: 0.1072 - val_acc: 0.9815\n",
      "Epoch 13/20\n",
      "60000/60000 [==============================] - 1s 22us/step - loss: 0.0252 - acc: 0.9933 - val_loss: 0.0872 - val_acc: 0.9829\n",
      "Epoch 14/20\n",
      "60000/60000 [==============================] - 1s 22us/step - loss: 0.0219 - acc: 0.9940 - val_loss: 0.0904 - val_acc: 0.9843\n",
      "Epoch 15/20\n",
      "60000/60000 [==============================] - 1s 23us/step - loss: 0.0250 - acc: 0.9935 - val_loss: 0.0854 - val_acc: 0.9839\n",
      "Epoch 16/20\n",
      "60000/60000 [==============================] - 1s 22us/step - loss: 0.0208 - acc: 0.9945 - val_loss: 0.1030 - val_acc: 0.9837\n",
      "Epoch 17/20\n",
      "60000/60000 [==============================] - 1s 22us/step - loss: 0.0207 - acc: 0.9949 - val_loss: 0.1005 - val_acc: 0.9844\n",
      "Epoch 18/20\n",
      "60000/60000 [==============================] - 1s 22us/step - loss: 0.0212 - acc: 0.9948 - val_loss: 0.1076 - val_acc: 0.9824\n",
      "Epoch 19/20\n",
      "60000/60000 [==============================] - 1s 22us/step - loss: 0.0188 - acc: 0.9953 - val_loss: 0.0989 - val_acc: 0.9843\n",
      "Epoch 20/20\n",
      "60000/60000 [==============================] - 1s 22us/step - loss: 0.0179 - acc: 0.9955 - val_loss: 0.1040 - val_acc: 0.9846\n"
     ]
    }
   ],
   "source": [
    "history = model.fit(x_train, y_train,\n",
    "                    batch_size=batch_size,\n",
    "                    epochs=epochs,\n",
    "                    verbose=1,\n",
    "                    validation_data=(x_test, y_test))"
   ]
  },
  {
   "cell_type": "code",
   "execution_count": 7,
   "metadata": {},
   "outputs": [
    {
     "name": "stdout",
     "output_type": "stream",
     "text": [
      "Test loss: 0.10397533595373523\n",
      "Test accuracy: 0.9846\n"
     ]
    }
   ],
   "source": [
    "score = model.evaluate(x_test, y_test, verbose=0)\n",
    "print('Test loss:', score[0])\n",
    "print('Test accuracy:', score[1])"
   ]
  },
  {
   "cell_type": "code",
   "execution_count": null,
   "metadata": {},
   "outputs": [],
   "source": []
  }
 ],
 "metadata": {
  "kernelspec": {
   "display_name": "Python 3",
   "language": "python",
   "name": "python3"
  },
  "language_info": {
   "codemirror_mode": {
    "name": "ipython",
    "version": 3
   },
   "file_extension": ".py",
   "mimetype": "text/x-python",
   "name": "python",
   "nbconvert_exporter": "python",
   "pygments_lexer": "ipython3",
   "version": "3.6.5"
  }
 },
 "nbformat": 4,
 "nbformat_minor": 2
}
