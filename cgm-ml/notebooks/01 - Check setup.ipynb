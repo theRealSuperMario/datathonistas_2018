{
 "cells": [
  {
   "cell_type": "markdown",
   "metadata": {},
   "source": [
    "# Checking if your machine is properly set-up.\n",
    "\n",
    "Our endeavours require that your machine is properly set up. The main requirement is that you have got 1. the proper python version and 2. the basic necessary modules installed. The following script - if executed successfully - will give you a good indication on that matter."
   ]
  },
  {
   "cell_type": "code",
   "execution_count": 1,
   "metadata": {},
   "outputs": [
    {
     "name": "stdout",
     "output_type": "stream",
     "text": [
      "Python version is fine!\n",
      "tensorflow: 1.11.0\n"
     ]
    },
    {
     "name": "stderr",
     "output_type": "stream",
     "text": [
      "Using TensorFlow backend.\n"
     ]
    },
    {
     "name": "stdout",
     "output_type": "stream",
     "text": [
      "keras: 2.2.4\n",
      "matplotlib: 3.0.1\n",
      "PIL: 5.3.0\n",
      "numpy: 1.15.4\n",
      "Success! You are on a very good way!\n"
     ]
    }
   ],
   "source": [
    "# Ignore warnings.\n",
    "import warnings\n",
    "warnings.filterwarnings(\"ignore\")\n",
    "\n",
    "# Check python version.\n",
    "import sys\n",
    "assert sys.version_info[0] == 3 and sys.version_info[1] == 6, \"Requires Python 3.6.x, got \" + str(sys.version_info)\n",
    "print(\"Python version is fine!\")\n",
    "\n",
    "# Check tensorflow.\n",
    "import tensorflow\n",
    "print(\"tensorflow:\", tensorflow.__version__)\n",
    "\n",
    "# Check keras.\n",
    "import keras\n",
    "print(\"keras:\", keras.__version__)\n",
    "\n",
    "# Check tensorflow.\n",
    "import matplotlib\n",
    "print(\"matplotlib:\", matplotlib.__version__)\n",
    "\n",
    "# Check PIL.\n",
    "import PIL\n",
    "print(\"PIL:\", PIL.__version__)\n",
    "\n",
    "# Check numpy.\n",
    "import numpy\n",
    "print(\"numpy:\", numpy.__version__)\n",
    "\n",
    "# Check pyntcloud.\n",
    "from pyntcloud import PyntCloud\n",
    "# print(\"pyntcloud:\", pyntcloud.__version__)\n",
    "\n",
    "print(\"Success! You are on a very good way!\")"
   ]
  },
  {
   "cell_type": "markdown",
   "metadata": {},
   "source": [
    "# Best practice: Train on a GPU.\n",
    "Although it is expected to be perfectly feasible to develop on a CPU, we strongly advise you to train anything on a GPU. Training on a GPU is definitely faster than on a CPU. The following script checks the availability of GPUs on your system."
   ]
  },
  {
   "cell_type": "code",
   "execution_count": 2,
   "metadata": {},
   "outputs": [
    {
     "name": "stdout",
     "output_type": "stream",
     "text": [
      "Available GPUs: ['/device:GPU:0', '/device:GPU:1']\n",
      "Looks good! You got access to a GPU.\n"
     ]
    }
   ],
   "source": [
    "from tensorflow.python.client import device_lib\n",
    "\n",
    "def get_available_gpus():\n",
    "    local_device_protos = device_lib.list_local_devices()\n",
    "    return [x.name for x in local_device_protos if x.device_type == 'GPU']\n",
    "\n",
    "available_gpus = get_available_gpus()\n",
    "print(\"Available GPUs:\", available_gpus)\n",
    "if len(available_gpus) != 0:\n",
    "    print(\"Looks good! You got access to a GPU.\")"
   ]
  },
  {
   "cell_type": "markdown",
   "metadata": {},
   "source": [
    "Thank you very much. Software and hardware seem to be in a good state."
   ]
  }
 ],
 "metadata": {
  "kernelspec": {
   "display_name": "Python 3",
   "language": "python",
   "name": "python3"
  },
  "language_info": {
   "codemirror_mode": {
    "name": "ipython",
    "version": 3
   },
   "file_extension": ".py",
   "mimetype": "text/x-python",
   "name": "python",
   "nbconvert_exporter": "python",
   "pygments_lexer": "ipython3",
   "version": "3.6.5"
  }
 },
 "nbformat": 4,
 "nbformat_minor": 2
}
